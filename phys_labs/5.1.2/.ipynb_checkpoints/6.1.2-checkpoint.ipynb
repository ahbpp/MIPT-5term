{
 "cells": [
  {
   "cell_type": "markdown",
   "metadata": {},
   "source": [
    "## Работа 1.2\n",
    "## Исследование эффекта комптона\n",
    "\n",
    "**Цель работы:** Исследовать энергетический спектр γ-квантов с помощью сцинтилляционного спектрометра,\n",
    "рассеянных на графите. Определить энергию рассеянных γ-квантов в зависимости от угла\n",
    "рассеяния, а также энергия покоя частиц, на которых происходит комптоновское рассеяние.\n",
    "\n"
   ]
  },
  {
   "cell_type": "markdown",
   "metadata": {},
   "source": [
    "### Теоретическая часть.\n",
    "Изменение длины волы рассеянного излучения: \n",
    "    \\begin{gather} \\Delta \\lambda = \\lambda_1 - \\lambda_0 = \\frac{h}{mc}(1-\\cos{\\theta}) = \\Lambda_k(1-\\cos{\\theta}), \\end{gather}\n",
    "    где $\\lambda_1, \\lambda_2$ - длины волн $\\gamma$ - кванта. \n",
    "<br> Тоже самое через энергию $\\gamma$ - квантов:\n",
    "    $$\\frac{1}{\\varepsilon(\\theta)} - \\frac{1}{\\varepsilon_0} = 1-\\cos{\\theta}$$\n",
    "    Здесь $\\varepsilon_0 = E_0/(mc^2)$ - энергия падающих $\\gamma$ - квантов, $\\varepsilon(\\theta)$ - испытывающих комптоновское рассеяние. \n",
    "<br> Запишем через каналы:\n",
    "    $$\\frac{1}{N(\\theta)} - \\frac{1}{N_0} = A(1-\\cos{\\theta}).$$\n",
    "    \n",
    "<br> Возвращаясь к энергии и подставляя $\\theta = 90°$ получаем: \n",
    "    $$mc^2(\\frac{1}{E(90)} - \\frac{1}{E(0)}) = 1 $$\n",
    "<br> или \n",
    " $$ mc^2 = E_{\\gamma} \\frac{N(90)}{N(0) - N(90)},$$\n",
    "где $E(0) = E_{\\gamma} -- энергия $\\gamma$ - лучей, испускаемых источником.\n",
    "<img src=\"./scheme.png\"/>"
   ]
  },
  {
   "cell_type": "code",
   "execution_count": null,
   "metadata": {},
   "outputs": [],
   "source": [
    "import numpy as np\n",
    "import scipy\n",
    "import matplotlib.pyplot as plt\n",
    "import pandas as pd\n",
    "from scipy.optimize import minimize"
   ]
  },
  {
   "cell_type": "code",
   "execution_count": 90,
   "metadata": {},
   "outputs": [],
   "source": [
    "def linear(coeffs, x):\n",
    "    return coeffs[0] * x + coeffs[1]\n",
    "def loss(coeffs):\n",
    "    return sum((linear(coeffs, x_i) - y_i)**2 for x_i, y_i in zip(x, y))"
   ]
  },
  {
   "cell_type": "markdown",
   "metadata": {},
   "source": [
    "1) Запишем результаты измерений в таблицу. Посчитаем сразу погрешность полученных величин."
   ]
  },
  {
   "cell_type": "code",
   "execution_count": 164,
   "metadata": {},
   "outputs": [
    {
     "data": {
      "text/html": [
       "<div>\n",
       "<style scoped>\n",
       "    .dataframe tbody tr th:only-of-type {\n",
       "        vertical-align: middle;\n",
       "    }\n",
       "\n",
       "    .dataframe tbody tr th {\n",
       "        vertical-align: top;\n",
       "    }\n",
       "\n",
       "    .dataframe thead th {\n",
       "        text-align: right;\n",
       "    }\n",
       "</style>\n",
       "<table border=\"1\" class=\"dataframe\">\n",
       "  <thead>\n",
       "    <tr style=\"text-align: right;\">\n",
       "      <th></th>\n",
       "      <th>θ</th>\n",
       "      <th>N</th>\n",
       "      <th>1/N</th>\n",
       "      <th>1-cosθ</th>\n",
       "      <th>σ(1-cosθ)</th>\n",
       "      <th>σ(1/N)</th>\n",
       "    </tr>\n",
       "  </thead>\n",
       "  <tbody>\n",
       "    <tr>\n",
       "      <th>0</th>\n",
       "      <td>0</td>\n",
       "      <td>862</td>\n",
       "      <td>0.00116</td>\n",
       "      <td>0.00000</td>\n",
       "      <td>0.00000</td>\n",
       "      <td>0.00001</td>\n",
       "    </tr>\n",
       "    <tr>\n",
       "      <th>1</th>\n",
       "      <td>10</td>\n",
       "      <td>881</td>\n",
       "      <td>0.00114</td>\n",
       "      <td>0.01519</td>\n",
       "      <td>0.00305</td>\n",
       "      <td>0.00001</td>\n",
       "    </tr>\n",
       "    <tr>\n",
       "      <th>2</th>\n",
       "      <td>20</td>\n",
       "      <td>755</td>\n",
       "      <td>0.00132</td>\n",
       "      <td>0.06031</td>\n",
       "      <td>0.00609</td>\n",
       "      <td>0.00001</td>\n",
       "    </tr>\n",
       "    <tr>\n",
       "      <th>3</th>\n",
       "      <td>30</td>\n",
       "      <td>710</td>\n",
       "      <td>0.00141</td>\n",
       "      <td>0.13397</td>\n",
       "      <td>0.00914</td>\n",
       "      <td>0.00001</td>\n",
       "    </tr>\n",
       "    <tr>\n",
       "      <th>4</th>\n",
       "      <td>40</td>\n",
       "      <td>652</td>\n",
       "      <td>0.00153</td>\n",
       "      <td>0.23396</td>\n",
       "      <td>0.01218</td>\n",
       "      <td>0.00001</td>\n",
       "    </tr>\n",
       "    <tr>\n",
       "      <th>5</th>\n",
       "      <td>50</td>\n",
       "      <td>575</td>\n",
       "      <td>0.00174</td>\n",
       "      <td>0.35721</td>\n",
       "      <td>0.01523</td>\n",
       "      <td>0.00002</td>\n",
       "    </tr>\n",
       "    <tr>\n",
       "      <th>6</th>\n",
       "      <td>60</td>\n",
       "      <td>508</td>\n",
       "      <td>0.00197</td>\n",
       "      <td>0.50000</td>\n",
       "      <td>0.01828</td>\n",
       "      <td>0.00002</td>\n",
       "    </tr>\n",
       "    <tr>\n",
       "      <th>7</th>\n",
       "      <td>70</td>\n",
       "      <td>439</td>\n",
       "      <td>0.00228</td>\n",
       "      <td>0.65798</td>\n",
       "      <td>0.02132</td>\n",
       "      <td>0.00003</td>\n",
       "    </tr>\n",
       "    <tr>\n",
       "      <th>8</th>\n",
       "      <td>80</td>\n",
       "      <td>398</td>\n",
       "      <td>0.00251</td>\n",
       "      <td>0.82635</td>\n",
       "      <td>0.02437</td>\n",
       "      <td>0.00003</td>\n",
       "    </tr>\n",
       "    <tr>\n",
       "      <th>9</th>\n",
       "      <td>90</td>\n",
       "      <td>362</td>\n",
       "      <td>0.00276</td>\n",
       "      <td>1.00000</td>\n",
       "      <td>0.02741</td>\n",
       "      <td>0.00004</td>\n",
       "    </tr>\n",
       "    <tr>\n",
       "      <th>10</th>\n",
       "      <td>100</td>\n",
       "      <td>326</td>\n",
       "      <td>0.00307</td>\n",
       "      <td>1.17365</td>\n",
       "      <td>0.03046</td>\n",
       "      <td>0.00005</td>\n",
       "    </tr>\n",
       "    <tr>\n",
       "      <th>11</th>\n",
       "      <td>110</td>\n",
       "      <td>302</td>\n",
       "      <td>0.00331</td>\n",
       "      <td>1.34202</td>\n",
       "      <td>0.03350</td>\n",
       "      <td>0.00005</td>\n",
       "    </tr>\n",
       "    <tr>\n",
       "      <th>12</th>\n",
       "      <td>120</td>\n",
       "      <td>278</td>\n",
       "      <td>0.00360</td>\n",
       "      <td>1.50000</td>\n",
       "      <td>0.03655</td>\n",
       "      <td>0.00006</td>\n",
       "    </tr>\n",
       "  </tbody>\n",
       "</table>\n",
       "</div>"
      ],
      "text/plain": [
       "      θ    N     1/N  1-cosθ  σ(1-cosθ)  σ(1/N)\n",
       "0     0  862 0.00116 0.00000    0.00000 0.00001\n",
       "1    10  881 0.00114 0.01519    0.00305 0.00001\n",
       "2    20  755 0.00132 0.06031    0.00609 0.00001\n",
       "3    30  710 0.00141 0.13397    0.00914 0.00001\n",
       "4    40  652 0.00153 0.23396    0.01218 0.00001\n",
       "5    50  575 0.00174 0.35721    0.01523 0.00002\n",
       "6    60  508 0.00197 0.50000    0.01828 0.00002\n",
       "7    70  439 0.00228 0.65798    0.02132 0.00003\n",
       "8    80  398 0.00251 0.82635    0.02437 0.00003\n",
       "9    90  362 0.00276 1.00000    0.02741 0.00004\n",
       "10  100  326 0.00307 1.17365    0.03046 0.00005\n",
       "11  110  302 0.00331 1.34202    0.03350 0.00005\n",
       "12  120  278 0.00360 1.50000    0.03655 0.00006"
      ]
     },
     "execution_count": 164,
     "metadata": {},
     "output_type": "execute_result"
    }
   ],
   "source": [
    "pd.options.display.float_format = '{:,.5f}'.format\n",
    "table = pd.read_excel(\"5.1.2.xlsx\", dtype={'Theta':str, 'Channel':float})\n",
    "kwargs = {\"1/N\" : lambda x: 1/x.N, \"1-cosθ\" : lambda x: 1 - np.cos(np.radians(x.θ))}\n",
    "table = table.assign(**kwargs)\n",
    "kwargs = {\"σ(1-cosθ)\" : lambda x: np.sin(np.radians(x.θ)*np.pi/180), 'σ(1/N)' : lambda x: 5/(table[['N']]**2)}\n",
    "table = table.assign(**kwargs)\n",
    "table"
   ]
  },
  {
   "cell_type": "markdown",
   "metadata": {},
   "source": [
    "2) Построим по таблице график зависимости $\\frac{1}{N}$ от ($1 - \\cos{\\theta}$). Ожидаем увидеть зависимость $y = a + bx$."
   ]
  },
  {
   "cell_type": "code",
   "execution_count": 178,
   "metadata": {},
   "outputs": [
    {
     "data": {
      "image/png": "[encoded data removed]",
      "text/plain": [
       "<Figure size 576x576 with 1 Axes>"
      ]
     },
     "metadata": {
      "needs_background": "light"
     },
     "output_type": "display_data"
    },
    {
     "name": "stdout",
     "output_type": "stream",
     "text": [
      "a =  0.0016116609319762817\n",
      "b =  0.001171244122506826\n"
     ]
    }
   ],
   "source": [
    "%matplotlib inline\n",
    "x = table['1-cosθ']\n",
    "y = table['1/N']\n",
    "coefs = minimize(loss, [1,1]).x\n",
    "\n",
    "#plt.plot(x, y, 'x')\n",
    "plt.figure(figsize=(8,8))\n",
    "plt.subplot()\n",
    "plt.errorbar(table['1-cosθ'], table['1/N'], xerr=table['σ(1-cosθ)'],\n",
    "                                yerr=table['σ(1/N)'],\n",
    "                                       fmt='x', color='w', ecolor='red', barsabove=True)\n",
    "plt.plot(x, [linear(res.x, x_i) for x_i in x], 'b-')\n",
    "plt.xlabel('1-cos(θ)')\n",
    "plt.ylabel('1/N')\n",
    "plt.grid()\n",
    "plt.show()\n",
    "print(\"b = \", coefs[0])\n",
    "print(\"a = \", coefs[1])"
   ]
  },
  {
   "cell_type": "markdown",
   "metadata": {},
   "source": [
    "3) С помощью графика и теоретической формулы определим энергию покоя частицы. \n",
    "<br> Известно, что $E_{\\gamma} = 661.6кэВ$."
   ]
  },
  {
   "cell_type": "code",
   "execution_count": 191,
   "metadata": {},
   "outputs": [
    {
     "name": "stdout",
     "output_type": "stream",
     "text": [
      "N(0) =  853.7929717501503\n",
      "N(90) =  359.33672921720944\n",
      "E =  480.80529600001483\n"
     ]
    }
   ],
   "source": [
    "N_0 = 1 / coefs[1]\n",
    "N_90 = 1 / (coefs[0] + coefs[1])\n",
    "E = 661.6 * N_90 / (N_0 - N_90)\n",
    "print(\"N_0 = \", N_0)\n",
    "print(\"N_90 = \", N_90)\n",
    "print(\"E = \", E)"
   ]
  },
  {
   "cell_type": "markdown",
   "metadata": {},
   "source": [
    "4) Оценим ошибку измерений:\n",
    "$$ \\sigma_{N_{90}} = 2.7 $$\n",
    "$$ \\sigma_{N_{0}} = 14.4 $$\n",
    "$$ \\sigma_{N_{0}} - \\sigma_{N_{90}} = 15.3 $$\n",
    "$$ \\varepsilon_E = \\sqrt{\\left(\\frac{\\sigma_{N_{90}}}{N_{90}}\\right)^2 - \\left(\\frac{\\sigma_{N_{0}} - \\sigma_{N_{90}}}{N_{0} - N_{90}}\\right)^2}  = 3.9 \\%$$ "
   ]
  },
  {
   "cell_type": "markdown",
   "metadata": {},
   "source": [
    "**Вывод:**  мы исследовали энергетический спектр $\\gamma$ - квантов, рассеянных на графите и определлили энергию рассеяния $\\gamma$-квантов в зависимости от угла рассеяния, а так же энергию покоя частиц, на которых происходит комптоновское рассеяние: $480 \\pm 18$КэВ."
   ]
  }
 ],
 "metadata": {
  "kernelspec": {
   "display_name": "Python 3",
   "language": "python",
   "name": "python3"
  },
  "language_info": {
   "codemirror_mode": {
    "name": "ipython",
    "version": 3
   },
   "file_extension": ".py",
   "mimetype": "text/x-python",
   "name": "python",
   "nbconvert_exporter": "python",
   "pygments_lexer": "ipython3",
   "version": "3.6.5"
  }
 },
 "nbformat": 4,
 "nbformat_minor": 2
}
