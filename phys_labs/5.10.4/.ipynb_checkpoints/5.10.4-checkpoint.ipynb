{
 "cells": [
  {
   "cell_type": "markdown",
   "metadata": {},
   "source": [
    "## 10.4 Магнитные моменты легких ядер\n",
    "**Описание работы:** В работе вычисляются магнитные моменты протона, дейтрона и ядра фтора на основе изменения их $g$-факторов методом ядерного магнитного резонанса (ЯМР). Полученные данные сравниваются с вычислениями магнитных моментов на основе кварковой модели адронов и одночастичной оболочечной модели ядер.\n",
    "### Теория:\n",
    "Полный момент ядра:\n",
    "\t\t\t$$\\textbf{I=L+S},$$\n",
    "где $\\textbf{L}$ - полный орбитальный момент нуклонов, $\\textbf{S}$ - собственная часть момента количества движения, спин. (Для четного числа нуклонов $\\textbf{I}$ целое, для нечетного полуцелое.)\n",
    "<br>\n",
    "Отношение дипольного момента $\\mu$ ядра к механическому моменту называется гиромагнитным соотношением:\n",
    "$$\\gamma = g \\gamma _0,$$\n",
    "где g - фактор Ланде, а за единицу $\\gamma _0$ принимается гиромагнитное отношение для орбитального движения электрона в атоме: $$\\gamma_0 = -\\frac{e}{2m_ec}$$\n",
    "\t\t\t\n",
    "* Аналогично, в ядерной физике: $$\\gamma_n=\\frac{e}{2Mc}$$\n",
    "* Магнитный момент ядра: $$\\mu = \\gamma_n \\hbar I = g_я\\mu_яI $$\n",
    "<br>\n",
    "Ядерный магнитный резонанс. ЯМР - это резонансной поглощение электромагнитной энергии в веществах, обусловленное ядерным перемагничиванием. ЯМР наблюдается в постоянном магнитном поле $\\textbf{H}_0$ при одновременном воздействии на образец радиочастотного магнитного поля, перпендикулярного $\\textbf{H}_0$, и обнаруживается по поглощению излучения.\n",
    "<br>\n",
    "В магнитном поле ядреные уровни расщепляются и под действием внешнего высокочастотного поля могут происходить электромагнитные переходы между компонентами расщепившегося уровня, это явление носит резонансный характер. Различие по энергии между двумя соседними компонентами:\n",
    "\t\t\t$$\\Delta E = g\\mu_{я}B_0 = h f_0$$\n",
    "Частота квантов:\n",
    "\t\t\t$$f_0 = \\frac{\\Delta E}{h} = \\frac{g_я\\mu_{я}B_0}{h} $$\n",
    "Константы:\n",
    "     $$h = 6.626070040 \\cdot 10^{−27} эрг \\cdot c$$\n",
    "     $$\\mu_{я} = 0.505 \\cdot 10^{-23} эрг \\cdot Гс^{-1}$$"
   ]
  },
  {
   "cell_type": "code",
   "execution_count": 8,
   "metadata": {},
   "outputs": [
    {
     "data": {
      "text/plain": [
       "0.342268278052223"
      ]
     },
     "execution_count": 8,
     "metadata": {},
     "output_type": "execute_result"
    }
   ],
   "source": []
  },
  {
   "cell_type": "code",
   "execution_count": 22,
   "metadata": {},
   "outputs": [],
   "source": [
    "import numpy as np\n",
    "import scipy\n",
    "import matplotlib.pyplot as plt\n",
    "import pandas as pd\n",
    "from scipy.optimize import minimize\n",
    "from IPython.display import display"
   ]
  },
  {
   "cell_type": "markdown",
   "metadata": {},
   "source": [
    "### Результаты:"
   ]
  },
  {
   "cell_type": "code",
   "execution_count": 45,
   "metadata": {},
   "outputs": [
    {
     "data": {
      "text/html": [
       "<div>\n",
       "<style scoped>\n",
       "    .dataframe tbody tr th:only-of-type {\n",
       "        vertical-align: middle;\n",
       "    }\n",
       "\n",
       "    .dataframe tbody tr th {\n",
       "        vertical-align: top;\n",
       "    }\n",
       "\n",
       "    .dataframe thead th {\n",
       "        text-align: right;\n",
       "    }\n",
       "</style>\n",
       "<table border=\"1\" class=\"dataframe\">\n",
       "  <thead>\n",
       "    <tr style=\"text-align: right;\">\n",
       "      <th></th>\n",
       "      <th>Материал</th>\n",
       "      <th>Ядра</th>\n",
       "      <th>$B_0$ мТл</th>\n",
       "      <th>$f_0$ МГц</th>\n",
       "    </tr>\n",
       "  </thead>\n",
       "  <tbody>\n",
       "    <tr>\n",
       "      <th>0</th>\n",
       "      <td>Вода</td>\n",
       "      <td>Водород</td>\n",
       "      <td>231</td>\n",
       "      <td>9.7981</td>\n",
       "    </tr>\n",
       "    <tr>\n",
       "      <th>1</th>\n",
       "      <td>Резина</td>\n",
       "      <td>Водород</td>\n",
       "      <td>230</td>\n",
       "      <td>9.7700</td>\n",
       "    </tr>\n",
       "    <tr>\n",
       "      <th>2</th>\n",
       "      <td>Тефлон</td>\n",
       "      <td>Фтор</td>\n",
       "      <td>241</td>\n",
       "      <td>9.8100</td>\n",
       "    </tr>\n",
       "  </tbody>\n",
       "</table>\n",
       "</div>"
      ],
      "text/plain": [
       "  Материал     Ядра  $B_0$ мТл  $f_0$ МГц\n",
       "0     Вода  Водород        231     9.7981\n",
       "1   Резина  Водород        230     9.7700\n",
       "2   Тефлон     Фтор        241     9.8100"
      ]
     },
     "metadata": {},
     "output_type": "display_data"
    }
   ],
   "source": [
    "B = [231, 230, 241]\n",
    "f = [9.7981, 9.77, 9.81]\n",
    "h = 6.626\n",
    "u  = 0.505\n",
    "table = pd.DataFrame.from_dict({'Материал': ['Вода','Резина', 'Тефлон'],\n",
    "                                'Ядра': ['Водород', 'Водород', 'Фтор'],\n",
    "                                    '$B_0$ мТл': B,\n",
    "                                 '$f_0$ МГц': f\n",
    "                                   })\n",
    "display(table)"
   ]
  },
  {
   "cell_type": "markdown",
   "metadata": {},
   "source": [
    "Посчитаем $g$ факторы для каждого материала.\n",
    "<br> Протон и фтор могут находиься только в двух состояниях ($\\textbf{I} = 1/2$)."
   ]
  },
  {
   "cell_type": "code",
   "execution_count": 59,
   "metadata": {},
   "outputs": [
    {
     "data": {
      "text/html": [
       "<div>\n",
       "<style scoped>\n",
       "    .dataframe tbody tr th:only-of-type {\n",
       "        vertical-align: middle;\n",
       "    }\n",
       "\n",
       "    .dataframe tbody tr th {\n",
       "        vertical-align: top;\n",
       "    }\n",
       "\n",
       "    .dataframe thead th {\n",
       "        text-align: right;\n",
       "    }\n",
       "</style>\n",
       "<table border=\"1\" class=\"dataframe\">\n",
       "  <thead>\n",
       "    <tr style=\"text-align: right;\">\n",
       "      <th></th>\n",
       "      <th>Материал</th>\n",
       "      <th>Ядра</th>\n",
       "      <th>$g$</th>\n",
       "      <th>$\\mu$</th>\n",
       "      <th>$\\mu_t$</th>\n",
       "    </tr>\n",
       "  </thead>\n",
       "  <tbody>\n",
       "    <tr>\n",
       "      <th>0</th>\n",
       "      <td>Вода</td>\n",
       "      <td>Водород</td>\n",
       "      <td>5.565</td>\n",
       "      <td>(2.7825$\\pm$0.0135$)\\mu_я$</td>\n",
       "      <td>2.79276$\\mu_я$</td>\n",
       "    </tr>\n",
       "    <tr>\n",
       "      <th>1</th>\n",
       "      <td>Резина</td>\n",
       "      <td>Водород</td>\n",
       "      <td>5.573</td>\n",
       "      <td>(2.7865$\\pm$0.0135$)\\mu_я$</td>\n",
       "      <td>2.79276$\\mu_я$</td>\n",
       "    </tr>\n",
       "    <tr>\n",
       "      <th>2</th>\n",
       "      <td>Тефлон</td>\n",
       "      <td>Фтор</td>\n",
       "      <td>5.341</td>\n",
       "      <td>(2.6705$\\pm$0.0125$)\\mu_я$</td>\n",
       "      <td></td>\n",
       "    </tr>\n",
       "  </tbody>\n",
       "</table>\n",
       "</div>"
      ],
      "text/plain": [
       "  Материал     Ядра    $g$                       $\\mu$         $\\mu_t$\n",
       "0     Вода  Водород  5.565  (2.7825$\\pm$0.0135$)\\mu_я$  2.79276$\\mu_я$\n",
       "1   Резина  Водород  5.573  (2.7865$\\pm$0.0135$)\\mu_я$  2.79276$\\mu_я$\n",
       "2   Тефлон     Фтор  5.341  (2.6705$\\pm$0.0125$)\\mu_я$                "
      ]
     },
     "metadata": {},
     "output_type": "display_data"
    }
   ],
   "source": [
    "g = [float('{:.3f}'.format(f_i * h / (H_i*u) * 10)) for H_i, f_i in zip(B, f)]\n",
    "dg = [float('{:.3f}'.format((1/B[i] + 0.005/f[i]) * g[i])) for i in range(len(B))]\n",
    "mu = list(map(lambda x: f'({x[0] /2}$\\pm${x[1]/2}$)\\mu_я$', zip(g, dg)))\n",
    "mu_t = ['2.79276$\\mu_я$', '2.79276$\\mu_я$', '']\n",
    "res = pd.DataFrame.from_dict({'Материал': ['Вода','Резина', 'Тефлон'],\n",
    "                                'Ядра': ['Водород', 'Водород', 'Фтор'],\n",
    "                                    '$g$': g,\n",
    "                                     '$\\mu$': mu,\n",
    "                                      '$\\mu_t$': mu_t     })\n",
    "display(res)"
   ]
  },
  {
   "cell_type": "markdown",
   "metadata": {},
   "source": [
    "### Вывод:\n",
    "* Методом ядерного агнитного резонанса измерили магнитный момент протона и фтора.\n",
    "* Для протона получили значения очень похожие на табличные. Можно сделать вывод, что этим методом можно узнавать информацию о ядре с очень хорошей точностью."
   ]
  },
  {
   "cell_type": "code",
   "execution_count": null,
   "metadata": {},
   "outputs": [],
   "source": []
  }
 ],
 "metadata": {
  "kernelspec": {
   "display_name": "Python 3",
   "language": "python",
   "name": "python3"
  },
  "language_info": {
   "codemirror_mode": {
    "name": "ipython",
    "version": 3
   },
   "file_extension": ".py",
   "mimetype": "text/x-python",
   "name": "python",
   "nbconvert_exporter": "python",
   "pygments_lexer": "ipython3",
   "version": "3.6.5"
  }
 },
 "nbformat": 4,
 "nbformat_minor": 2
}
