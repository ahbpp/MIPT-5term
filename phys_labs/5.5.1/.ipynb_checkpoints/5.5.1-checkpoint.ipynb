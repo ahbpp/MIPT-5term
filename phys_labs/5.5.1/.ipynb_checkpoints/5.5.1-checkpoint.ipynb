{
 "cells": [
  {
   "cell_type": "markdown",
   "metadata": {},
   "source": [
    "# Работа 5.1\n",
    "## Изучение коэффициэнта ослабления потока $\\gamma$-лучей  в веществе и определние их энергии \n",
    "**Цель работы:** Измерить с помощью сцинтилляционного счетчика линейные коэффициенты\n",
    "ослабления потока $\\gamma$−лучей в свинце, железе и алюминии; определить по их величине энергию\n",
    "$\\gamma$−квантов.\n",
    "<br>\n",
    "**Полный линейный коэффициент $\\mu$ ослабления пучка $\\gamma$−квантов при прохождении:**\n",
    "$$ \\mu = \\frac{1}{l} \\ln{\\frac{N_0}{N}} $$\n",
    "**Экспериментальная установка:**\n",
    "<img src=\"./img1.png\"/>"
   ]
  },
  {
   "cell_type": "code",
   "execution_count": 111,
   "metadata": {},
   "outputs": [],
   "source": [
    "import numpy as np\n",
    "import scipy\n",
    "import matplotlib.pyplot as plt\n",
    "import pandas as pd\n",
    "from scipy.optimize import minimize\n",
    "import seaborn as sns\n",
    "from scipy.optimize import curve_fit\n",
    "from IPython.display import display"
   ]
  },
  {
   "cell_type": "code",
   "execution_count": 135,
   "metadata": {},
   "outputs": [],
   "source": [
    "plt.rcParams['figure.figsize'] = 15,9\n",
    "plt.rcParams['axes.grid'] = True\n",
    "pd.set_option('display.max_columns', None)\n",
    "plt.rc('text', usetex=False)\n",
    "plt.rc('font', family='serif')\n",
    "plt.rc('font', weight='bold')\n",
    "plt.rc('xtick', labelsize=12) \n",
    "plt.rc('ytick', labelsize=12)\n",
    "sns.set(style=\"darkgrid\", palette=\"bright\")\n",
    "plt.rc('legend', fontsize= 'large')\n",
    "def linear(coeffs, x):\n",
    "    return coeffs[0] * x + coeffs[1]\n",
    "def loss(coeffs, x, y):\n",
    "    return sum((linear(coeffs, x_i) - y_i)**2 for x_i, y_i in zip(x, y))\n"
   ]
  },
  {
   "cell_type": "code",
   "execution_count": 112,
   "metadata": {},
   "outputs": [
    {
     "name": "stdout",
     "output_type": "stream",
     "text": [
      "N_0 = 110598\n"
     ]
    }
   ],
   "source": [
    "N0 = 110598\n",
    "bg = (289 + 258) / 2 \n",
    "Pb = [[61924,36580,20488,12397,7792,4805,2935], [61634,36763,20595,12123,7770,4815,2931]]\n",
    "dPb = 0.5\n",
    "Fe =[[62195,35182,20273,12108,6974,4083,2411,1554,1004], [62174,35192,20351,11701,6898,4000,2515,1507,998]]\n",
    "dFe = 1\n",
    "Al = [[73022,47896,32305,21385,14586,9853],[73479,47599,32365,21374,12596,9849]]\n",
    "dAl = 2\n",
    "Wd = [[109570,106778,103704,102119,100447],[109822,106833,104260,102322,100416]]\n",
    "dWd = 2\n",
    "print('N_0 = {}'.format(N0))"
   ]
  },
  {
   "cell_type": "code",
   "execution_count": 86,
   "metadata": {},
   "outputs": [],
   "source": [
    "def f(x, a, b):\n",
    "    return a * x + b"
   ]
  },
  {
   "cell_type": "code",
   "execution_count": 128,
   "metadata": {},
   "outputs": [],
   "source": [
    "def plot (N, d, name):\n",
    "    print(f'{name}, d = {d}, N:')\n",
    "    data = np.array(N)\n",
    "    t = ((data[0] + data[1]) / 2 - bg)\n",
    "    logdata = -np.log(t / N0)\n",
    "    x=d * np.array(range(1, len(data[0])+1))\n",
    "    table = pd.DataFrame.from_dict({'len cm': x,\n",
    "                                    f'N{1}': data[0],\n",
    "                                 f'N{2}': data[1]\n",
    "                                   })\n",
    "    display(table.transpose())\n",
    "    dx = 500 / t / x\n",
    "    dy = 0.01 / d\n",
    "    coefs, pcov = curve_fit(f, x, logdata)\n",
    "    if name == 'Wood':\n",
    "        plt.plot(x, [linear(coefs, x_i) for x_i in x], \n",
    "             label='{} $\\\\mu$ = {:.2f}'.format(name, coefs[0]))\n",
    "    else:\n",
    "        plt.plot(x, [linear(coefs, x_i) for x_i in x], \n",
    "             label='{} $\\\\mu$ = {:.2f} $\\\\pm${:.2f}'.format(name, coefs[0], (pcov[0][0]**2 + max(dx+dy)**2)**(1./2) ))\n",
    "    plt.errorbar(x, logdata, xerr=dx, yerr=dy, fmt='x', color='w', ecolor='magenta', barsabove=True)\n",
    "    return coefs[0]"
   ]
  },
  {
   "cell_type": "code",
   "execution_count": 136,
   "metadata": {},
   "outputs": [
    {
     "name": "stdout",
     "output_type": "stream",
     "text": [
      "Pb, d = 0.5, N:\n"
     ]
    },
    {
     "data": {
      "text/html": [
       "<div>\n",
       "<style scoped>\n",
       "    .dataframe tbody tr th:only-of-type {\n",
       "        vertical-align: middle;\n",
       "    }\n",
       "\n",
       "    .dataframe tbody tr th {\n",
       "        vertical-align: top;\n",
       "    }\n",
       "\n",
       "    .dataframe thead th {\n",
       "        text-align: right;\n",
       "    }\n",
       "</style>\n",
       "<table border=\"1\" class=\"dataframe\">\n",
       "  <thead>\n",
       "    <tr style=\"text-align: right;\">\n",
       "      <th></th>\n",
       "      <th>0</th>\n",
       "      <th>1</th>\n",
       "      <th>2</th>\n",
       "      <th>3</th>\n",
       "      <th>4</th>\n",
       "      <th>5</th>\n",
       "      <th>6</th>\n",
       "    </tr>\n",
       "  </thead>\n",
       "  <tbody>\n",
       "    <tr>\n",
       "      <th>len cm</th>\n",
       "      <td>0.5</td>\n",
       "      <td>1.0</td>\n",
       "      <td>1.5</td>\n",
       "      <td>2.0</td>\n",
       "      <td>2.5</td>\n",
       "      <td>3.0</td>\n",
       "      <td>3.5</td>\n",
       "    </tr>\n",
       "    <tr>\n",
       "      <th>N1</th>\n",
       "      <td>61924.0</td>\n",
       "      <td>36580.0</td>\n",
       "      <td>20488.0</td>\n",
       "      <td>12397.0</td>\n",
       "      <td>7792.0</td>\n",
       "      <td>4805.0</td>\n",
       "      <td>2935.0</td>\n",
       "    </tr>\n",
       "    <tr>\n",
       "      <th>N2</th>\n",
       "      <td>61634.0</td>\n",
       "      <td>36763.0</td>\n",
       "      <td>20595.0</td>\n",
       "      <td>12123.0</td>\n",
       "      <td>7770.0</td>\n",
       "      <td>4815.0</td>\n",
       "      <td>2931.0</td>\n",
       "    </tr>\n",
       "  </tbody>\n",
       "</table>\n",
       "</div>"
      ],
      "text/plain": [
       "              0        1        2        3       4       5       6\n",
       "len cm      0.5      1.0      1.5      2.0     2.5     3.0     3.5\n",
       "N1      61924.0  36580.0  20488.0  12397.0  7792.0  4805.0  2935.0\n",
       "N2      61634.0  36763.0  20595.0  12123.0  7770.0  4815.0  2931.0"
      ]
     },
     "metadata": {},
     "output_type": "display_data"
    },
    {
     "name": "stdout",
     "output_type": "stream",
     "text": [
      "Fe, d = 1, N:\n"
     ]
    },
    {
     "data": {
      "text/html": [
       "<div>\n",
       "<style scoped>\n",
       "    .dataframe tbody tr th:only-of-type {\n",
       "        vertical-align: middle;\n",
       "    }\n",
       "\n",
       "    .dataframe tbody tr th {\n",
       "        vertical-align: top;\n",
       "    }\n",
       "\n",
       "    .dataframe thead th {\n",
       "        text-align: right;\n",
       "    }\n",
       "</style>\n",
       "<table border=\"1\" class=\"dataframe\">\n",
       "  <thead>\n",
       "    <tr style=\"text-align: right;\">\n",
       "      <th></th>\n",
       "      <th>0</th>\n",
       "      <th>1</th>\n",
       "      <th>2</th>\n",
       "      <th>3</th>\n",
       "      <th>4</th>\n",
       "      <th>5</th>\n",
       "      <th>6</th>\n",
       "      <th>7</th>\n",
       "      <th>8</th>\n",
       "    </tr>\n",
       "  </thead>\n",
       "  <tbody>\n",
       "    <tr>\n",
       "      <th>len cm</th>\n",
       "      <td>1</td>\n",
       "      <td>2</td>\n",
       "      <td>3</td>\n",
       "      <td>4</td>\n",
       "      <td>5</td>\n",
       "      <td>6</td>\n",
       "      <td>7</td>\n",
       "      <td>8</td>\n",
       "      <td>9</td>\n",
       "    </tr>\n",
       "    <tr>\n",
       "      <th>N1</th>\n",
       "      <td>62195</td>\n",
       "      <td>35182</td>\n",
       "      <td>20273</td>\n",
       "      <td>12108</td>\n",
       "      <td>6974</td>\n",
       "      <td>4083</td>\n",
       "      <td>2411</td>\n",
       "      <td>1554</td>\n",
       "      <td>1004</td>\n",
       "    </tr>\n",
       "    <tr>\n",
       "      <th>N2</th>\n",
       "      <td>62174</td>\n",
       "      <td>35192</td>\n",
       "      <td>20351</td>\n",
       "      <td>11701</td>\n",
       "      <td>6898</td>\n",
       "      <td>4000</td>\n",
       "      <td>2515</td>\n",
       "      <td>1507</td>\n",
       "      <td>998</td>\n",
       "    </tr>\n",
       "  </tbody>\n",
       "</table>\n",
       "</div>"
      ],
      "text/plain": [
       "            0      1      2      3     4     5     6     7     8\n",
       "len cm      1      2      3      4     5     6     7     8     9\n",
       "N1      62195  35182  20273  12108  6974  4083  2411  1554  1004\n",
       "N2      62174  35192  20351  11701  6898  4000  2515  1507   998"
      ]
     },
     "metadata": {},
     "output_type": "display_data"
    },
    {
     "name": "stdout",
     "output_type": "stream",
     "text": [
      "Al, d = 2, N:\n"
     ]
    },
    {
     "data": {
      "text/html": [
       "<div>\n",
       "<style scoped>\n",
       "    .dataframe tbody tr th:only-of-type {\n",
       "        vertical-align: middle;\n",
       "    }\n",
       "\n",
       "    .dataframe tbody tr th {\n",
       "        vertical-align: top;\n",
       "    }\n",
       "\n",
       "    .dataframe thead th {\n",
       "        text-align: right;\n",
       "    }\n",
       "</style>\n",
       "<table border=\"1\" class=\"dataframe\">\n",
       "  <thead>\n",
       "    <tr style=\"text-align: right;\">\n",
       "      <th></th>\n",
       "      <th>0</th>\n",
       "      <th>1</th>\n",
       "      <th>2</th>\n",
       "      <th>3</th>\n",
       "      <th>4</th>\n",
       "      <th>5</th>\n",
       "    </tr>\n",
       "  </thead>\n",
       "  <tbody>\n",
       "    <tr>\n",
       "      <th>len cm</th>\n",
       "      <td>2</td>\n",
       "      <td>4</td>\n",
       "      <td>6</td>\n",
       "      <td>8</td>\n",
       "      <td>10</td>\n",
       "      <td>12</td>\n",
       "    </tr>\n",
       "    <tr>\n",
       "      <th>N1</th>\n",
       "      <td>73022</td>\n",
       "      <td>47896</td>\n",
       "      <td>32305</td>\n",
       "      <td>21385</td>\n",
       "      <td>14586</td>\n",
       "      <td>9853</td>\n",
       "    </tr>\n",
       "    <tr>\n",
       "      <th>N2</th>\n",
       "      <td>73479</td>\n",
       "      <td>47599</td>\n",
       "      <td>32365</td>\n",
       "      <td>21374</td>\n",
       "      <td>12596</td>\n",
       "      <td>9849</td>\n",
       "    </tr>\n",
       "  </tbody>\n",
       "</table>\n",
       "</div>"
      ],
      "text/plain": [
       "            0      1      2      3      4     5\n",
       "len cm      2      4      6      8     10    12\n",
       "N1      73022  47896  32305  21385  14586  9853\n",
       "N2      73479  47599  32365  21374  12596  9849"
      ]
     },
     "metadata": {},
     "output_type": "display_data"
    },
    {
     "name": "stdout",
     "output_type": "stream",
     "text": [
      "Wood, d = 2, N:\n"
     ]
    },
    {
     "data": {
      "text/html": [
       "<div>\n",
       "<style scoped>\n",
       "    .dataframe tbody tr th:only-of-type {\n",
       "        vertical-align: middle;\n",
       "    }\n",
       "\n",
       "    .dataframe tbody tr th {\n",
       "        vertical-align: top;\n",
       "    }\n",
       "\n",
       "    .dataframe thead th {\n",
       "        text-align: right;\n",
       "    }\n",
       "</style>\n",
       "<table border=\"1\" class=\"dataframe\">\n",
       "  <thead>\n",
       "    <tr style=\"text-align: right;\">\n",
       "      <th></th>\n",
       "      <th>0</th>\n",
       "      <th>1</th>\n",
       "      <th>2</th>\n",
       "      <th>3</th>\n",
       "      <th>4</th>\n",
       "    </tr>\n",
       "  </thead>\n",
       "  <tbody>\n",
       "    <tr>\n",
       "      <th>len cm</th>\n",
       "      <td>2</td>\n",
       "      <td>4</td>\n",
       "      <td>6</td>\n",
       "      <td>8</td>\n",
       "      <td>10</td>\n",
       "    </tr>\n",
       "    <tr>\n",
       "      <th>N1</th>\n",
       "      <td>109570</td>\n",
       "      <td>106778</td>\n",
       "      <td>103704</td>\n",
       "      <td>102119</td>\n",
       "      <td>100447</td>\n",
       "    </tr>\n",
       "    <tr>\n",
       "      <th>N2</th>\n",
       "      <td>109822</td>\n",
       "      <td>106833</td>\n",
       "      <td>104260</td>\n",
       "      <td>102322</td>\n",
       "      <td>100416</td>\n",
       "    </tr>\n",
       "  </tbody>\n",
       "</table>\n",
       "</div>"
      ],
      "text/plain": [
       "             0       1       2       3       4\n",
       "len cm       2       4       6       8      10\n",
       "N1      109570  106778  103704  102119  100447\n",
       "N2      109822  106833  104260  102322  100416"
      ]
     },
     "metadata": {},
     "output_type": "display_data"
    },
    {
     "data": {
      "text/plain": [
       "<matplotlib.legend.Legend at 0x12921c630>"
      ]
     },
     "execution_count": 136,
     "metadata": {},
     "output_type": "execute_result"
    },
    {
     "data": {
      "image/png": "[encoded data removed]",
      "text/plain": [
       "<Figure size 1080x648 with 1 Axes>"
      ]
     },
     "metadata": {},
     "output_type": "display_data"
    }
   ],
   "source": [
    "plt.ylabel('$\\ln{\\\\frac{N_0}{N}}$', fontsize=12)\n",
    "plt.xlabel('$l$, cm', fontsize=12)\n",
    "plot(Pb, dPb, 'Pb')\n",
    "plot(Fe, dFe, 'Fe')\n",
    "plot(Al, dAl, 'Al')\n",
    "plot(Wd, dWd, 'Wood')\n",
    "plt.legend()"
   ]
  },
  {
   "cell_type": "markdown",
   "metadata": {},
   "source": [
    "# Вывод:\n",
    "* Измерили по данным коэффициенты ослабления потока $\\gamma$−лучей и получили соответсвенно значения:\n",
    "\n",
    "\n",
    "\n",
    "* Зная значения коэффициентов ослабления потока, можно определить по таблицам энергию $\\gamma$−лучей:\n",
    "\n",
    "| substance| $E_{\\gamma}$  |\n",
    "|:--------:|:-------------:|\n",
    "| Pb       | 0.7 MeV       |\n",
    "| Fe       | 0.7 MeV       |\n",
    "| Al       | 0.6 MeV       |\n",
    "\n",
    "* Точно нельзя сказать насколько были получены точные данные коэффициентов ослабления, но значения энергий $\\gamma$−лучей получились похожие для всех образцов, из этого можно сделать вывод, что значения коэффициентов посчитаны правильно или был неправильно поставлен эксперимент."
   ]
  },
  {
   "cell_type": "code",
   "execution_count": 188,
   "metadata": {},
   "outputs": [
    {
     "data": {
      "text/plain": [
       "1.2011058946115705"
      ]
     },
     "execution_count": 188,
     "metadata": {},
     "output_type": "execute_result"
    }
   ],
   "source": [
    "n = 4\n",
    "m = 9\n",
    "e = 4.8\n",
    "h = 6.6\n",
    "eps = 1./3\n",
    "Z = 26 * 4.8\n",
    "m*Z**2*e**4/(n**2 * 8 * h**2 * eps**2)   / (10**(5))\n"
   ]
  },
  {
   "cell_type": "code",
   "execution_count": 187,
   "metadata": {},
   "outputs": [
    {
     "data": {
      "text/plain": [
       "81"
      ]
     },
     "execution_count": 187,
     "metadata": {},
     "output_type": "execute_result"
    }
   ],
   "source": [
    "m * 3**2"
   ]
  },
  {
   "cell_type": "code",
   "execution_count": null,
   "metadata": {},
   "outputs": [],
   "source": []
  }
 ],
 "metadata": {
  "kernelspec": {
   "display_name": "Python 3",
   "language": "python",
   "name": "python3"
  },
  "language_info": {
   "codemirror_mode": {
    "name": "ipython",
    "version": 3
   },
   "file_extension": ".py",
   "mimetype": "text/x-python",
   "name": "python",
   "nbconvert_exporter": "python",
   "pygments_lexer": "ipython3",
   "version": "3.6.5"
  }
 },
 "nbformat": 4,
 "nbformat_minor": 2
}
